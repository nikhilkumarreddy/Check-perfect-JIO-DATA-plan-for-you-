{
  "nbformat": 4,
  "nbformat_minor": 0,
  "metadata": {
    "colab": {
      "name": "Untitled18.ipynb",
      "provenance": [],
      "collapsed_sections": [],
      "mount_file_id": "11IWMgnTGZXG_DTgHIw-tLner40wKZTPn",
      "authorship_tag": "ABX9TyOFqUM5lSjHGEUxnkszgs8t",
      "include_colab_link": true
    },
    "kernelspec": {
      "name": "python3",
      "display_name": "Python 3"
    }
  },
  "cells": [
    {
      "cell_type": "markdown",
      "metadata": {
        "id": "view-in-github",
        "colab_type": "text"
      },
      "source": [
        "<a href=\"https://colab.research.google.com/github/nikhilkumarreddy/jio-analysis/blob/master/Untitled18.ipynb\" target=\"_parent\"><img src=\"https://colab.research.google.com/assets/colab-badge.svg\" alt=\"Open In Colab\"/></a>"
      ]
    },
    {
      "cell_type": "code",
      "metadata": {
        "id": "DFCSK_ZTxR-l",
        "colab_type": "code",
        "colab": {
          "base_uri": "https://localhost:8080/",
          "height": 187
        },
        "outputId": "d22cdc1c-30fc-4a6f-c6cd-12aafbef2532"
      },
      "source": [
        "!pip install PyPDF2 "
      ],
      "execution_count": 1,
      "outputs": [
        {
          "output_type": "stream",
          "text": [
            "Collecting PyPDF2\n",
            "\u001b[?25l  Downloading https://files.pythonhosted.org/packages/b4/01/68fcc0d43daf4c6bdbc6b33cc3f77bda531c86b174cac56ef0ffdb96faab/PyPDF2-1.26.0.tar.gz (77kB)\n",
            "\r\u001b[K     |████▎                           | 10kB 19.4MB/s eta 0:00:01\r\u001b[K     |████████▌                       | 20kB 1.8MB/s eta 0:00:01\r\u001b[K     |████████████▊                   | 30kB 2.3MB/s eta 0:00:01\r\u001b[K     |█████████████████               | 40kB 2.6MB/s eta 0:00:01\r\u001b[K     |█████████████████████▏          | 51kB 2.1MB/s eta 0:00:01\r\u001b[K     |█████████████████████████▍      | 61kB 2.4MB/s eta 0:00:01\r\u001b[K     |█████████████████████████████▋  | 71kB 2.6MB/s eta 0:00:01\r\u001b[K     |████████████████████████████████| 81kB 2.3MB/s \n",
            "\u001b[?25hBuilding wheels for collected packages: PyPDF2\n",
            "  Building wheel for PyPDF2 (setup.py) ... \u001b[?25l\u001b[?25hdone\n",
            "  Created wheel for PyPDF2: filename=PyPDF2-1.26.0-cp36-none-any.whl size=61086 sha256=caf4e2b616942366a097a2e9a6d30866a3c8cd6d7d41d9f313a3c77a5ba54997\n",
            "  Stored in directory: /root/.cache/pip/wheels/53/84/19/35bc977c8bf5f0c23a8a011aa958acd4da4bbd7a229315c1b7\n",
            "Successfully built PyPDF2\n",
            "Installing collected packages: PyPDF2\n",
            "Successfully installed PyPDF2-1.26.0\n"
          ],
          "name": "stdout"
        }
      ]
    },
    {
      "cell_type": "code",
      "metadata": {
        "id": "i7vrr1ufmO3P",
        "colab_type": "code",
        "colab": {}
      },
      "source": [
        "import time\n",
        "import PyPDF2\n",
        "import re\n",
        "import os\n",
        "import matplotlib.pyplot as plt "
      ],
      "execution_count": 2,
      "outputs": []
    },
    {
      "cell_type": "code",
      "metadata": {
        "id": "xnyDvNeoba0M",
        "colab_type": "code",
        "colab": {
          "base_uri": "https://localhost:8080/",
          "height": 34
        },
        "outputId": "6687f9e0-c2b3-48d9-c6d4-95bb61ff66dd"
      },
      "source": [
        "\n",
        "def data(ab): \n",
        "  dataa = ''\n",
        "  for i in ab:\n",
        "    if i == '.':\n",
        "      x = ab.index(i)\n",
        "      #print(x)\n",
        "  dataa = ab[:x]+ab[x:x+4]\n",
        "  return float(dataa)\n",
        "  \n",
        "\n",
        "print(data('1064.8251064.8251064.8250.0000.0'))\n",
        "\n"
      ],
      "execution_count": 3,
      "outputs": [
        {
          "output_type": "stream",
          "text": [
            "1064.825\n"
          ],
          "name": "stdout"
        }
      ]
    },
    {
      "cell_type": "code",
      "metadata": {
        "id": "Y9Y5-psTJFt5",
        "colab_type": "code",
        "colab": {
          "base_uri": "https://localhost:8080/",
          "height": 51
        },
        "outputId": "016ca49c-9f9d-47a0-c92a-e6d12350c251"
      },
      "source": [
        "\n",
        "start = time.process_time()\n",
        "total = ''\n",
        "dict ={ } \n",
        "\n",
        "\n",
        "for file in os.listdir(\"/content/drive/My Drive/jio/jio1\"):\n",
        "\n",
        "    if file.endswith(\".pdf\"):\n",
        "        FileName = os.path.join(\"/content/drive/My Drive/jio/jio1\", file)\n",
        "        pdf = open(FileName, \"rb\")\n",
        "           \n",
        "        Pdf = PyPDF2.PdfFileReader(pdf)\n",
        "     \n",
        "        NumPages = Pdf.getNumPages()\n",
        "        \n",
        "        for i in range(0, NumPages):\n",
        "\n",
        "          PageObj = Pdf.getPage(i)\n",
        "          total = PageObj.extractText()\n",
        "          \n",
        "          string = total\n",
        "          pattern = 'JIO'\n",
        "          finall = [match.start() for match in re.finditer(pattern, string)] \n",
        "\n",
        "#find the date \n",
        "          for j in finall:\n",
        "            abc = ''\n",
        "            for i in range(j-36, j):\n",
        "              abc +=total[i]\n",
        "              dates = abc[:9]\n",
        "#find the data used\n",
        "\n",
        "            abcd = ''\n",
        "            for k in range(j+6 , j+15):\n",
        "              abcd += total[k]\n",
        "            datas = data(abcd)\n",
        "\n",
        "#push it into dictionary and calculates the data \n",
        "            if dates in dict:\n",
        "              dict[dates] = dict.get(dates) + datas\n",
        " \n",
        "            else:\n",
        "              dict[dates] = datas\n",
        "                \n",
        "\n",
        "#calculate the average data used                  \n",
        "print(\"average DATA used per DAY =\" , sum(dict.values())/len(dict))   \n",
        "\n",
        "print(time.process_time() - start)\n",
        "\n",
        "\n",
        "\n"
      ],
      "execution_count": 4,
      "outputs": [
        {
          "output_type": "stream",
          "text": [
            "average DATA used per DAY = 1676.8522\n",
            "0.5253394100000004\n"
          ],
          "name": "stdout"
        }
      ]
    },
    {
      "cell_type": "code",
      "metadata": {
        "id": "qEBnHiEfe-tg",
        "colab_type": "code",
        "colab": {
          "base_uri": "https://localhost:8080/",
          "height": 222
        },
        "outputId": "d9956e0e-f484-46b5-c193-aaf685f83e90"
      },
      "source": [
        "total"
      ],
      "execution_count": 18,
      "outputs": [
        {
          "output_type": "execute_result",
          "data": {
            "application/vnd.google.colaboratory.intrinsic+json": {
              "type": "string"
            },
            "text/plain": [
              "'Jio Number : 8639387079Mr. Bhoge Anandareddy  Statement Date : 28-Aug-2020No.DateNumberTotal UsageFree UsageBilled UsageAmount(Nos)(Nos)(Nos)(`)(A)(B)(C = A-B)1307-MAR-20 19:25:259182978379151100.001407-MAR-20 19:24:119182978379151100.001507-MAR-20 19:23:569182978379151100.001607-MAR-20 19:21:529182978379151100.001707-MAR-20 19:21:059182978379151100.001807-MAR-20 19:20:379182978379151100.001907-MAR-20 19:20:299182978379151100.002007-MAR-20 19:20:159182978379151100.002107-MAR-20 09:59:119178160302881100.002207-MAR-20 09:58:589178160302881100.002307-MAR-20 09:58:569178160302881100.002405-MAR-20 21:42:239178160302881100.002505-MAR-20 21:42:179178160302881100.002605-MAR-20 21:42:139178160302881100.002705-MAR-20 20:57:179178160302881100.002805-MAR-20 20:50:529178160302881100.002905-MAR-20 20:50:369178160302881100.003005-MAR-20 20:50:319178160302881100.003105-MAR-20 20:50:289178160302881100.003205-MAR-20 20:49:469178160302881100.003305-MAR-20 20:49:379178160302881100.003405-MAR-20 20:44:199178160302881100.003505-MAR-20 20:43:579178160302881100.003605-MAR-20 20:43:289178160302881100.003705-MAR-20 20:43:029178160302881100.003804-MAR-20 20:21:219178160302881100.003904-MAR-20 20:21:179178160302881100.004004-MAR-20 20:20:529178160302881100.004104-MAR-20 20:20:449178160302881100.004204-MAR-20 20:20:429178160302881100.004304-MAR-20 20:18:449178160302881100.004404-MAR-20 20:18:269178160302881100.004504-MAR-20 20:18:239178160302881100.004604-MAR-20 20:18:029178160302881100.004704-MAR-20 15:24:019189195060691100.004804-MAR-20 15:23:509189195060691100.004903-MAR-20 22:41:319178160302881100.005002-MAR-20 13:42:159178160302881100.00-Subtotal50505000.00Usage in India Total50505000.00SMS Total50505000.00Page 10 of 10'"
            ]
          },
          "metadata": {
            "tags": []
          },
          "execution_count": 18
        }
      ]
    },
    {
      "cell_type": "code",
      "metadata": {
        "id": "4UKVSqWT2rBj",
        "colab_type": "code",
        "colab": {
          "base_uri": "https://localhost:8080/",
          "height": 51
        },
        "outputId": "ea415c5d-c495-4c36-82f7-826ccee8c0a3"
      },
      "source": [
        "pdf = open('/content/drive/My Drive/jio/jio1/Statement1598629561193.pdf', \"rb\")\n",
        "Pdf = PyPDF2.PdfFileReader(pdf)\n",
        "NumPages = Pdf.getNumPages()\n",
        "PageObj = Pdf.getPage(1)\n",
        "total = PageObj.extractText()   \n",
        "print(total.find('/day'))\n",
        "print(total[3509-1])\n",
        "\n"
      ],
      "execution_count": 32,
      "outputs": [
        {
          "output_type": "stream",
          "text": [
            "3509\n",
            "b\n"
          ],
          "name": "stdout"
        }
      ]
    },
    {
      "cell_type": "code",
      "metadata": {
        "id": "Jg2svfnvi0yx",
        "colab_type": "code",
        "colab": {
          "base_uri": "https://localhost:8080/",
          "height": 34
        },
        "outputId": "400d0fcb-3c71-4e09-bf7a-2beb8b3494e1"
      },
      "source": [
        "def data_plan(total):\n",
        "  plan_name = ''\n",
        "  day = total.find('/day')\n",
        "\n",
        "  for i in range(day-4 , day):\n",
        "    plan_name += total[i]\n",
        "\n",
        "  return plan_name\n",
        "    \n",
        "print(data_plan(total))"
      ],
      "execution_count": 34,
      "outputs": [
        {
          "output_type": "stream",
          "text": [
            "2 Gb\n"
          ],
          "name": "stdout"
        }
      ]
    },
    {
      "cell_type": "code",
      "metadata": {
        "id": "PC3KvhvANfv4",
        "colab_type": "code",
        "colab": {}
      },
      "source": [
        "keys = dict.keys()\n",
        "values = dict.values()\n",
        "plt.bar(keys, values)"
      ],
      "execution_count": null,
      "outputs": []
    },
    {
      "cell_type": "code",
      "metadata": {
        "id": "WFW2E-NbDce9",
        "colab_type": "code",
        "colab": {
          "base_uri": "https://localhost:8080/",
          "height": 51
        },
        "outputId": "acd6d18c-2663-4d2f-9203-3c4a789497c4"
      },
      "source": [
        "\n",
        "import re\n",
        "\n",
        "string = total\n",
        "pattern = 'JIO'\n",
        "\n",
        "finall = [match.start() for match in re.finditer(pattern, string)]\n",
        "print(finall)\n",
        "print(len(finall))"
      ],
      "execution_count": null,
      "outputs": [
        {
          "output_type": "stream",
          "text": [
            "[]\n",
            "0\n"
          ],
          "name": "stdout"
        }
      ]
    },
    {
      "cell_type": "code",
      "metadata": {
        "id": "m4zLRMT-Dy3Z",
        "colab_type": "code",
        "colab": {}
      },
      "source": [
        "dict ={ } \n",
        "\n",
        "\n",
        "\n",
        "for j in finall:\n",
        "\n",
        "  abc = ''\n",
        "  for i in range(j-36, j):\n",
        "    abc +=total[i]\n",
        "    dates = abc[:9]\n",
        "  print(dates)\n",
        "   \n",
        "\n",
        "\n",
        "  abcd = ''\n",
        "  for k in range(j+6 , j+15):\n",
        "    abcd += total[k]\n",
        "\n",
        "  datas = data(abcd)\n",
        "  print(datas)\n",
        "\n",
        "\n",
        "  if dates in dict:\n",
        "    dict[dates] = dict.get(dates) + datas\n",
        "  else:\n",
        "    dict[dates] = datas\n",
        "\n",
        "\n",
        "print(sum(dict.values())/len(dict))"
      ],
      "execution_count": null,
      "outputs": []
    },
    {
      "cell_type": "code",
      "metadata": {
        "id": "4PPl9Od6ZiPj",
        "colab_type": "code",
        "colab": {}
      },
      "source": [
        "from datetime import datetime\n",
        "\n",
        "rdered_data = sorted(data.items(), key = lambda x:datetime.strptime(x[0], '%d-%m-%Y'), reverse=True)\n",
        "\n",
        "print(ordered_data)"
      ],
      "execution_count": null,
      "outputs": []
    },
    {
      "cell_type": "code",
      "metadata": {
        "id": "xNhZjwqUmyNY",
        "colab_type": "code",
        "colab": {
          "base_uri": "https://localhost:8080/",
          "height": 34
        },
        "outputId": "bbd670fe-3c26-4af8-f944-62caeb31ae5c"
      },
      "source": [
        "print(sum(dict.values())/len(dict))"
      ],
      "execution_count": null,
      "outputs": [
        {
          "output_type": "stream",
          "text": [
            "2525.0438851351355\n"
          ],
          "name": "stdout"
        }
      ]
    },
    {
      "cell_type": "code",
      "metadata": {
        "id": "_al7Ft3U7zDh",
        "colab_type": "code",
        "colab": {
          "base_uri": "https://localhost:8080/",
          "height": 34
        },
        "outputId": "f634437f-23df-4360-b924-291c3d4e9ec0"
      },
      "source": [
        "# gives the start date and end date\n",
        "\n",
        "\n",
        "num = total.find('from')\n",
        "\n",
        "def dates(num):\n",
        "  \n",
        "  start = ''\n",
        "  a = num + 5\n",
        "  b = a + 11\n",
        "\n",
        "  for i in range(a , b ):\n",
        "    start += total[i]\n",
        "\n",
        "  end =''\n",
        "  a = b + 4\n",
        "  b = a + 11\n",
        "  for i in range(a , b):\n",
        "    end += total[i]\n",
        "    \n",
        "  \n",
        "  return start , end\n",
        "\n",
        "  \n",
        "print(dates(num))"
      ],
      "execution_count": null,
      "outputs": [
        {
          "output_type": "stream",
          "text": [
            "('Number : 86', '7079Mr. Bho')\n"
          ],
          "name": "stdout"
        }
      ]
    },
    {
      "cell_type": "code",
      "metadata": {
        "id": "xRlwlyN9dF3W",
        "colab_type": "code",
        "colab": {}
      },
      "source": [
        ""
      ],
      "execution_count": null,
      "outputs": []
    },
    {
      "cell_type": "code",
      "metadata": {
        "id": "7zAb1lrHJc6O",
        "colab_type": "code",
        "colab": {}
      },
      "source": [
        "\n",
        "def date_time(finall):\n",
        "  for j in finall:\n",
        "\n",
        "    abc = ''\n",
        "    for i in range(j-36, j):\n",
        "      abc +=total[i]\n",
        "      dates = abc[:9]\n",
        "    #print(dates)\n",
        "    \n",
        "\n",
        "\n",
        "    abcd = ''\n",
        "    for k in range(j+6 , j+15):\n",
        "      abcd += total[k]\n",
        "\n",
        "    datas = data(abcd)\n",
        "    #print(datas)\n",
        "\n",
        "    if dates in dict:\n",
        "       dict[dates] = dict.get(dates) + datas\n",
        "\n",
        "    else:\n",
        "        dict[dates] = datas\n",
        "\n",
        "    return dict\n"
      ],
      "execution_count": null,
      "outputs": []
    },
    {
      "cell_type": "code",
      "metadata": {
        "id": "mX1pbSabkLkm",
        "colab_type": "code",
        "colab": {
          "base_uri": "https://localhost:8080/",
          "height": 248
        },
        "outputId": "80307d6f-2ebf-474a-eaf7-aeeb704b3b69"
      },
      "source": [
        "import matplotlib.pyplot as plt\n",
        "\n",
        "# Pie chart, where the slices will be ordered and plotted counter-clockwise:\n",
        "labels = 'Frogs', 'Hogs' \n",
        "sizes = [45, 60, ]\n",
        "explode = (0, 0.1)  # only \"explode\" the 2nd slice (i.e. 'Hogs')\n",
        "\n",
        "fig1, ax1 = plt.subplots()\n",
        "ax1.pie(sizes, explode=explode, labels=labels, autopct='%1.1f%%',\n",
        "        shadow=True, startangle=90)\n",
        "ax1.axis('equal')  # Equal aspect ratio ensures that pie is drawn as a circle.\n",
        "\n",
        "plt.show()"
      ],
      "execution_count": null,
      "outputs": [
        {
          "output_type": "display_data",
          "data": {
            "image/png": "[encoded data removed]",
            "text/plain": [
              "<Figure size 432x288 with 1 Axes>"
            ]
          },
          "metadata": {
            "tags": []
          }
        }
      ]
    },
    {
      "cell_type": "code",
      "metadata": {
        "id": "iRa5ORHukMLy",
        "colab_type": "code",
        "colab": {}
      },
      "source": [
        ""
      ],
      "execution_count": null,
      "outputs": []
    }
  ]
}