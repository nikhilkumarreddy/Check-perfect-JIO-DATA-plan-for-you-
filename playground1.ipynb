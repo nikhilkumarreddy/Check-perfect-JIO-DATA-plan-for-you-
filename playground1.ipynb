{
  "nbformat": 4,
  "nbformat_minor": 0,
  "metadata": {
    "colab": {
      "name": "playground1.ipynb",
      "provenance": [],
      "mount_file_id": "1X2dQLFj1gUqgDGOZocNM9zYC6p9LtsPp",
      "authorship_tag": "ABX9TyMNClp5dKhehKB6ZvcgoAo4",
      "include_colab_link": true
    },
    "kernelspec": {
      "name": "python3",
      "display_name": "Python 3"
    }
  },
  "cells": [
    {
      "cell_type": "markdown",
      "metadata": {
        "id": "view-in-github",
        "colab_type": "text"
      },
      "source": [
        "<a href=\"https://colab.research.google.com/github/nikhilkumarreddy/Check-perfect-JIO-DATA-plan-for-you-/blob/master/playground1.ipynb\" target=\"_parent\"><img src=\"https://colab.research.google.com/assets/colab-badge.svg\" alt=\"Open In Colab\"/></a>"
      ]
    },
    {
      "cell_type": "code",
      "metadata": {
        "id": "GmX5251Zu6QF",
        "outputId": "917152d9-eb64-4dc9-e8c0-cda55a64ccee",
        "colab": {
          "base_uri": "https://localhost:8080/",
          "height": 187
        }
      },
      "source": [
        "!pip install PyPDF2 "
      ],
      "execution_count": 2,
      "outputs": [
        {
          "output_type": "stream",
          "text": [
            "Collecting PyPDF2\n",
            "\u001b[?25l  Downloading https://files.pythonhosted.org/packages/b4/01/68fcc0d43daf4c6bdbc6b33cc3f77bda531c86b174cac56ef0ffdb96faab/PyPDF2-1.26.0.tar.gz (77kB)\n",
            "\r\u001b[K     |████▎                           | 10kB 16.2MB/s eta 0:00:01\r\u001b[K     |████████▌                       | 20kB 2.8MB/s eta 0:00:01\r\u001b[K     |████████████▊                   | 30kB 3.7MB/s eta 0:00:01\r\u001b[K     |█████████████████               | 40kB 4.0MB/s eta 0:00:01\r\u001b[K     |█████████████████████▏          | 51kB 3.3MB/s eta 0:00:01\r\u001b[K     |█████████████████████████▍      | 61kB 3.7MB/s eta 0:00:01\r\u001b[K     |█████████████████████████████▋  | 71kB 3.9MB/s eta 0:00:01\r\u001b[K     |████████████████████████████████| 81kB 3.0MB/s \n",
            "\u001b[?25hBuilding wheels for collected packages: PyPDF2\n",
            "  Building wheel for PyPDF2 (setup.py) ... \u001b[?25l\u001b[?25hdone\n",
            "  Created wheel for PyPDF2: filename=PyPDF2-1.26.0-cp36-none-any.whl size=61086 sha256=2e15a292065d66ad30c8e5d9ed3db25fda14bb1fb29faa8f8cec6b61754103df\n",
            "  Stored in directory: /root/.cache/pip/wheels/53/84/19/35bc977c8bf5f0c23a8a011aa958acd4da4bbd7a229315c1b7\n",
            "Successfully built PyPDF2\n",
            "Installing collected packages: PyPDF2\n",
            "Successfully installed PyPDF2-1.26.0\n"
          ],
          "name": "stdout"
        }
      ]
    },
    {
      "cell_type": "code",
      "metadata": {
        "id": "EECqIESqvFI5"
      },
      "source": [
        "import time\n",
        "import PyPDF2\n",
        "import re\n",
        "import os"
      ],
      "execution_count": 3,
      "outputs": []
    },
    {
      "cell_type": "code",
      "metadata": {
        "id": "kTxhqLWQvNlW",
        "outputId": "5173c2a5-2293-417a-8211-c99b575c4914",
        "colab": {
          "base_uri": "https://localhost:8080/",
          "height": 34
        }
      },
      "source": [
        "def data(ab): \n",
        "  dataa = ''\n",
        "  x = 0\n",
        "  for i in ab:\n",
        "    if i == '.':\n",
        "      x = ab.index(i)\n",
        "      #print(x)\n",
        "  dataa = ab[:x]+ab[x:x+4]\n",
        "  return float(dataa)\n",
        "  \n",
        "\n",
        "print(data('1064.8251064.8251064.8250.0000.0'))\n",
        "\n"
      ],
      "execution_count": 4,
      "outputs": [
        {
          "output_type": "stream",
          "text": [
            "1064.825\n"
          ],
          "name": "stdout"
        }
      ]
    },
    {
      "cell_type": "code",
      "metadata": {
        "id": "07KPJNGkv8LR"
      },
      "source": [
        "def data_plan(total):\n",
        "  plan_name = ''\n",
        "  day = total.find('/day')\n",
        "\n",
        "  for i in range(day-4 , day):\n",
        "    plan_name += total[i]\n",
        "\n",
        "  return plan_name\n",
        "    \n"
      ],
      "execution_count": 5,
      "outputs": []
    },
    {
      "cell_type": "code",
      "metadata": {
        "id": "xTGfE2Tav0M5"
      },
      "source": [
        "dict ={}\n",
        "def Data_days(total):\n",
        "  \n",
        "  pattern = 'JIO'\n",
        "  finall = [match.start() for match in re.finditer(pattern, total)] \n",
        "\n",
        "  for j in finall:\n",
        "    abc = ''\n",
        "    for i in range(j-36, j):\n",
        "      abc +=total[i]\n",
        "      dates = abc[:9]\n",
        "\n",
        "    abcd = ''\n",
        "    for k in range(j+6 , j+15):\n",
        "      abcd += total[k]\n",
        "      datas = data(abcd)\n",
        "\n",
        "    \n",
        "    if dates in dict:\n",
        "      dict[dates] = dict.get(dates) + datas\n",
        " \n",
        "    else:\n",
        "      dict[dates] = datas\n",
        "    \n",
        "  return dict\n",
        "\n",
        "\n"
      ],
      "execution_count": 6,
      "outputs": []
    },
    {
      "cell_type": "code",
      "metadata": {
        "id": "MJ_afQPlX8ei"
      },
      "source": [
        "#difference the pan and useage\n",
        "waste_dict  = {}\n",
        "def waste_data(dict , plan):\n",
        "  for i  , j in dict.items():\n",
        "    waste_dict[i] = plan - j\n",
        "\n",
        "  return waste_dict\n",
        "\n",
        "    \n"
      ],
      "execution_count": 7,
      "outputs": []
    },
    {
      "cell_type": "code",
      "metadata": {
        "id": "DiHmGfq_zV58"
      },
      "source": [
        "#counts the waste and over waste\n",
        "def waste_over(waste_dict):\n",
        "  ok = waste_dict.values()\n",
        "  ok = list(ok)\n",
        "\n",
        "  over_data_1 = 0\n",
        "  waste_data_1 = 0\n",
        "\n",
        "  for i in ok:\n",
        "    if i <= 0:\n",
        "      waste_data_1 += i\n",
        "    else:\n",
        "      over_data_1 += i\n",
        "\n",
        "  #print(waste_data_1 , over_data_1)\n",
        "\n",
        "  return waste_data_1 , over_data_1\n",
        "\n"
      ],
      "execution_count": 8,
      "outputs": []
    },
    {
      "cell_type": "code",
      "metadata": {
        "id": "zNtx5SRUmk_a"
      },
      "source": [
        "def percentage_calculate(plan_list , waste_data_1 , over_data_1):\n",
        "  total_data = 0\n",
        "  percentage = 0 \n",
        "  for i in plan_list:\n",
        "    total_data += i*30 \n",
        "\n",
        "  percentage = waste_data_1 / total_data * 100\n",
        "\n",
        "  return percentage \n",
        "\n",
        "\n",
        "def extra_data_plan(waste_dict ):\n",
        "  waste_dict -= waste_dict % -1000\n",
        "\n",
        "  return abs(waste_dict)\n",
        "\n"
      ],
      "execution_count": 9,
      "outputs": []
    },
    {
      "cell_type": "code",
      "metadata": {
        "id": "YUN8rAYZ-2I6"
      },
      "source": [
        "import matplotlib.pyplot as plt\n",
        "def plot(percentage ):\n",
        "  labels = 'Data_Wasted', 'Data_Used' \n",
        "  sizes = [percentage ,  100 - percentage]\n",
        "  explode = ( 0.1 , 0)  \n",
        "  fig1, ax1 = plt.subplots()\n",
        "  ax1.pie(sizes, explode=explode, labels=labels, autopct='%1.1f%%',\n",
        "          shadow=True, startangle=90)\n",
        "  ax1.axis('equal') \n",
        "  plt.show()\n"
      ],
      "execution_count": 10,
      "outputs": []
    },
    {
      "cell_type": "code",
      "metadata": {
        "id": "XTWhw-gpvQmL",
        "outputId": "ef346e36-77b3-4432-8918-4bb76d06fe1f",
        "colab": {
          "base_uri": "https://localhost:8080/",
          "height": 102
        }
      },
      "source": [
        "#Main function\n",
        "\n",
        "start = time.process_time()\n",
        "dict = {}\n",
        "plan_list = []\n",
        "waste_data_1 = 0\n",
        "over_data_1 = 0\n",
        "for file in os.listdir(\"/content/drive/My Drive/jio/\"):\n",
        "  if file.endswith(\".pdf\"):\n",
        "    FileName = os.path.join(\"/content/drive/My Drive/jio/\", file)\n",
        "    pdf = open(FileName, \"rb\")\n",
        "          \n",
        "    Pdf = PyPDF2.PdfFileReader(pdf)\n",
        "\n",
        "    for i in range(0, Pdf.getNumPages()):\n",
        "      PageObj = Pdf.getPage(i)\n",
        "      total = PageObj.extractText()\n",
        "      if i == 1:\n",
        "        plan = data_plan(total)[0]\n",
        "\n",
        "        plan = int(plan + '000')\n",
        "        plan_list.append(plan)\n",
        "\n",
        "\n",
        "  \n",
        "      dict = Data_days(total)\n",
        "\n",
        "    waste = waste_data(dict , plan)\n",
        "    over_data_1 , waste_data_1 = waste_over(waste_dict)\n",
        "\n",
        "    percentage = percentage_calculate(plan_list , waste_data_1 , over_data_1)\n",
        "    extra_plan = extra_data_plan(over_data_1 )\n",
        "\n",
        "\n",
        "#plot( percentage )\n",
        "\n",
        "  \n",
        "average_data  = sum(dict.values()) / len(dict)  \n",
        "#print(dict)\n",
        "print(plan_list)\n",
        "print(\"u wasted {0:.0f}\"  .format(percentage),'% of ur data')\n",
        "print(\"add on data used\" , extra_plan/1000 , 'GB')\n",
        "\n",
        "print(\"average data used {0:.0f}\"  .format(average_data), 'MB per day')\n",
        "\n",
        "print(\"time taken to run this pogram -- = \" , time.process_time() - start)"
      ],
      "execution_count": 32,
      "outputs": [
        {
          "output_type": "stream",
          "text": [
            "[2000, 2000, 2000, 2000, 2000]\n",
            "u wasted 5 % of ur data\n",
            "add on data used 93.0 GB\n",
            "average data used 2525 MB per day\n",
            "time taken to run this pogram -- =  1.8588896550000058\n"
          ],
          "name": "stdout"
        }
      ]
    },
    {
      "cell_type": "code",
      "metadata": {
        "id": "_bVhfo_9NmJX",
        "outputId": "890a835e-cc25-4d99-818f-61d6bfa2fd5e",
        "colab": {
          "base_uri": "https://localhost:8080/",
          "height": 255
        }
      },
      "source": [
        "plot(percentage )"
      ],
      "execution_count": 15,
      "outputs": [
        {
          "output_type": "display_data",
          "data": {
            "image/png": "[encoded data removed]",
            "text/plain": [
              "<Figure size 432x288 with 1 Axes>"
            ]
          },
          "metadata": {
            "tags": []
          }
        }
      ]
    },
    {
      "cell_type": "code",
      "metadata": {
        "id": "qcVw4onHvWTq",
        "outputId": "bcd8e31b-5c1d-4835-b894-da199ec11653",
        "colab": {
          "base_uri": "https://localhost:8080/",
          "height": 51
        }
      },
      "source": [
        "print(waste_data_1 , over_data_1)\n",
        "print(waste_over(waste_dict))"
      ],
      "execution_count": 38,
      "outputs": [
        {
          "output_type": "stream",
          "text": [
            "15147.847000000002 -5453.413000000001\n",
            "(-5453.413000000001, 15147.847000000002)\n"
          ],
          "name": "stdout"
        }
      ]
    },
    {
      "cell_type": "code",
      "metadata": {
        "id": "zmfzMVV9e0Y_",
        "outputId": "e8989cbc-bf2e-4e9f-e0a6-b7de3e525834",
        "colab": {
          "base_uri": "https://localhost:8080/",
          "height": 527
        }
      },
      "source": [
        "len(waste_dict)\n",
        "waste_dict\n",
        "# positive values are wasted and negative values are add on data"
      ],
      "execution_count": 31,
      "outputs": [
        {
          "output_type": "execute_result",
          "data": {
            "text/plain": [
              "{'01-MAR-20': 443.9660000000001,\n",
              " '02-MAR-20': 1200.5819999999999,\n",
              " '03-MAR-20': 218.5340000000001,\n",
              " '04-MAR-20': 611.0559999999998,\n",
              " '05-MAR-20': 422.51,\n",
              " '06-MAR-20': 793.5990000000002,\n",
              " '07-MAR-20': 57.567000000000235,\n",
              " '08-MAR-20': -210.1949999999997,\n",
              " '09-MAR-20': 448.65599999999995,\n",
              " '10-MAR-20': 857.2889999999998,\n",
              " '11-MAR-20': 180.24500000000012,\n",
              " '12-MAR-20': -162.067,\n",
              " '13-MAR-20': 544.9479999999999,\n",
              " '14-MAR-20': -161.23599999999988,\n",
              " '15-MAR-20': -565.9710000000005,\n",
              " '16-MAR-20': 365.01099999999997,\n",
              " '17-MAR-20': 524.671,\n",
              " '18-MAR-20': 489.6060000000002,\n",
              " '19-MAR-20': 31.450000000000045,\n",
              " '20-MAR-20': 1024.4,\n",
              " '21-MAR-20': 902.512,\n",
              " '22-MAR-20': 748.2640000000001,\n",
              " '23-MAR-20': 1094.5259999999998,\n",
              " '24-MAR-20': 94.94699999999966,\n",
              " '25-MAR-20': -4353.944000000001,\n",
              " '26-MAR-20': 714.096,\n",
              " '27-MAR-20': 900.857,\n",
              " '28-MAR-20': 777.327,\n",
              " '29-MAR-20': 724.7530000000002,\n",
              " '30-MAR-20': 976.4750000000001}"
            ]
          },
          "metadata": {
            "tags": []
          },
          "execution_count": 31
        }
      ]
    },
    {
      "cell_type": "code",
      "metadata": {
        "id": "it1J07sKe1zu",
        "outputId": "c10069b9-f3d2-4c90-eb2f-48c0b48386da",
        "colab": {
          "base_uri": "https://localhost:8080/",
          "height": 34
        }
      },
      "source": [
        "plan_list"
      ],
      "execution_count": 32,
      "outputs": [
        {
          "output_type": "execute_result",
          "data": {
            "text/plain": [
              "[2000]"
            ]
          },
          "metadata": {
            "tags": []
          },
          "execution_count": 32
        }
      ]
    },
    {
      "cell_type": "code",
      "metadata": {
        "id": "P0eHP-cs7uUW"
      },
      "source": [
        ""
      ],
      "execution_count": 32,
      "outputs": []
    }
  ]
}