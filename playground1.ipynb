{
  "nbformat": 4,
  "nbformat_minor": 0,
  "metadata": {
    "colab": {
      "name": "playground1.ipynb",
      "provenance": [],
      "mount_file_id": "1X2dQLFj1gUqgDGOZocNM9zYC6p9LtsPp",
      "authorship_tag": "ABX9TyO2q0glDMT7nymqsRGXGYAV",
      "include_colab_link": true
    },
    "kernelspec": {
      "name": "python3",
      "display_name": "Python 3"
    }
  },
  "cells": [
    {
      "cell_type": "markdown",
      "metadata": {
        "id": "view-in-github",
        "colab_type": "text"
      },
      "source": [
        "<a href=\"https://colab.research.google.com/github/nikhilkumarreddy/jio-analysis/blob/master/playground1.ipynb\" target=\"_parent\"><img src=\"https://colab.research.google.com/assets/colab-badge.svg\" alt=\"Open In Colab\"/></a>"
      ]
    },
    {
      "cell_type": "code",
      "metadata": {
        "id": "GmX5251Zu6QF",
        "colab_type": "code",
        "colab": {
          "base_uri": "https://localhost:8080/",
          "height": 187
        },
        "outputId": "942cc7de-e3cc-4329-c25f-45f7e1d75271"
      },
      "source": [
        "!pip install PyPDF2 "
      ],
      "execution_count": 1,
      "outputs": [
        {
          "output_type": "stream",
          "text": [
            "Collecting PyPDF2\n",
            "\u001b[?25l  Downloading https://files.pythonhosted.org/packages/b4/01/68fcc0d43daf4c6bdbc6b33cc3f77bda531c86b174cac56ef0ffdb96faab/PyPDF2-1.26.0.tar.gz (77kB)\n",
            "\r\u001b[K     |████▎                           | 10kB 16.2MB/s eta 0:00:01\r\u001b[K     |████████▌                       | 20kB 1.8MB/s eta 0:00:01\r\u001b[K     |████████████▊                   | 30kB 2.6MB/s eta 0:00:01\r\u001b[K     |█████████████████               | 40kB 3.3MB/s eta 0:00:01\r\u001b[K     |█████████████████████▏          | 51kB 2.0MB/s eta 0:00:01\r\u001b[K     |█████████████████████████▍      | 61kB 2.4MB/s eta 0:00:01\r\u001b[K     |█████████████████████████████▋  | 71kB 2.8MB/s eta 0:00:01\r\u001b[K     |████████████████████████████████| 81kB 2.3MB/s \n",
            "\u001b[?25hBuilding wheels for collected packages: PyPDF2\n",
            "  Building wheel for PyPDF2 (setup.py) ... \u001b[?25l\u001b[?25hdone\n",
            "  Created wheel for PyPDF2: filename=PyPDF2-1.26.0-cp36-none-any.whl size=61086 sha256=a9ea2b625e1e440df837112e5fa4549b615daab3226e9125c7c7d08ffb2f0abe\n",
            "  Stored in directory: /root/.cache/pip/wheels/53/84/19/35bc977c8bf5f0c23a8a011aa958acd4da4bbd7a229315c1b7\n",
            "Successfully built PyPDF2\n",
            "Installing collected packages: PyPDF2\n",
            "Successfully installed PyPDF2-1.26.0\n"
          ],
          "name": "stdout"
        }
      ]
    },
    {
      "cell_type": "code",
      "metadata": {
        "id": "EECqIESqvFI5",
        "colab_type": "code",
        "colab": {}
      },
      "source": [
        "import time\n",
        "import PyPDF2\n",
        "import re\n",
        "import os"
      ],
      "execution_count": 30,
      "outputs": []
    },
    {
      "cell_type": "code",
      "metadata": {
        "id": "kTxhqLWQvNlW",
        "colab_type": "code",
        "colab": {
          "base_uri": "https://localhost:8080/",
          "height": 34
        },
        "outputId": "aa680e49-7109-4cd9-b41c-e6c59b5737d5"
      },
      "source": [
        "def data(ab): \n",
        "  dataa = ''\n",
        "  x = 0\n",
        "  for i in ab:\n",
        "    if i == '.':\n",
        "      x = ab.index(i)\n",
        "      #print(x)\n",
        "  dataa = ab[:x]+ab[x:x+4]\n",
        "  return float(dataa)\n",
        "  \n",
        "\n",
        "print(data('1064.8251064.8251064.8250.0000.0'))\n",
        "\n"
      ],
      "execution_count": 31,
      "outputs": [
        {
          "output_type": "stream",
          "text": [
            "1064.825\n"
          ],
          "name": "stdout"
        }
      ]
    },
    {
      "cell_type": "code",
      "metadata": {
        "id": "07KPJNGkv8LR",
        "colab_type": "code",
        "colab": {
          "base_uri": "https://localhost:8080/",
          "height": 34
        },
        "outputId": "8c7aaf16-672b-4f6f-cfe4-3090721ee50e"
      },
      "source": [
        "def data_plan(total):\n",
        "  plan_name = ''\n",
        "  day = total.find('/day')\n",
        "\n",
        "  for i in range(day-4 , day):\n",
        "    plan_name += total[i]\n",
        "\n",
        "  return plan_name\n",
        "    \n",
        "print(data_plan(total))"
      ],
      "execution_count": 32,
      "outputs": [
        {
          "output_type": "stream",
          "text": [
            "of 1\n"
          ],
          "name": "stdout"
        }
      ]
    },
    {
      "cell_type": "code",
      "metadata": {
        "id": "xTGfE2Tav0M5",
        "colab_type": "code",
        "colab": {}
      },
      "source": [
        "dict ={}\n",
        "def Data_days(total):\n",
        "  \n",
        "  pattern = 'JIO'\n",
        "  finall = [match.start() for match in re.finditer(pattern, total)] \n",
        "\n",
        "  for j in finall:\n",
        "    abc = ''\n",
        "    for i in range(j-36, j):\n",
        "      abc +=total[i]\n",
        "      dates = abc[:9]\n",
        "\n",
        "    abcd = ''\n",
        "    for k in range(j+6 , j+15):\n",
        "      abcd += total[k]\n",
        "      datas = data(abcd)\n",
        "\n",
        "    \n",
        "    if dates in dict:\n",
        "      dict[dates] = dict.get(dates) + datas\n",
        " \n",
        "    else:\n",
        "      dict[dates] = datas\n",
        "    \n",
        "  return dict\n",
        "\n",
        "\n"
      ],
      "execution_count": 33,
      "outputs": []
    },
    {
      "cell_type": "code",
      "metadata": {
        "id": "XTWhw-gpvQmL",
        "colab_type": "code",
        "colab": {}
      },
      "source": [
        "for file in os.listdir(\"/content/drive/My Drive/jio/jio1\"):\n",
        "  if file.endswith(\".pdf\"):\n",
        "    FileName = os.path.join(\"/content/drive/My Drive/jio/jio1\", file)\n",
        "    pdf = open(FileName, \"rb\")\n",
        "            \n",
        "    Pdf = PyPDF2.PdfFileReader(pdf)\n",
        "    for i in range(0, Pdf.getNumPages()):\n",
        "      PageObj = Pdf.getPage(i)\n",
        "      total = PageObj.extractText()\n",
        "\n",
        "    dict = Data_days(total)\n",
        "    \n",
        "    print(dict)\n",
        "\n",
        "\n",
        "\n",
        "\n"
      ],
      "execution_count": null,
      "outputs": []
    },
    {
      "cell_type": "code",
      "metadata": {
        "id": "DiHmGfq_zV58",
        "colab_type": "code",
        "colab": {}
      },
      "source": [
        ""
      ],
      "execution_count": null,
      "outputs": []
    },
    {
      "cell_type": "code",
      "metadata": {
        "id": "qcVw4onHvWTq",
        "colab_type": "code",
        "colab": {}
      },
      "source": [
        ""
      ],
      "execution_count": null,
      "outputs": []
    }
  ]
}