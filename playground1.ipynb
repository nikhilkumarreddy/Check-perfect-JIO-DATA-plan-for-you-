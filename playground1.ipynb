{
  "nbformat": 4,
  "nbformat_minor": 0,
  "metadata": {
    "colab": {
      "name": "playground1.ipynb",
      "provenance": [],
      "mount_file_id": "1X2dQLFj1gUqgDGOZocNM9zYC6p9LtsPp",
      "authorship_tag": "ABX9TyMaNI/ZjkPj+Ro27aVEcqJm",
      "include_colab_link": true
    },
    "kernelspec": {
      "name": "python3",
      "display_name": "Python 3"
    }
  },
  "cells": [
    {
      "cell_type": "markdown",
      "metadata": {
        "id": "view-in-github",
        "colab_type": "text"
      },
      "source": [
        "<a href=\"https://colab.research.google.com/github/nikhilkumarreddy/Check-perfect-JIO-DATA-plan-for-you-/blob/master/playground1.ipynb\" target=\"_parent\"><img src=\"https://colab.research.google.com/assets/colab-badge.svg\" alt=\"Open In Colab\"/></a>"
      ]
    },
    {
      "cell_type": "code",
      "metadata": {
        "id": "GmX5251Zu6QF",
        "outputId": "9f04447f-4a7a-43af-d05c-2dee1acad100",
        "colab": {
          "base_uri": "https://localhost:8080/",
          "height": 187
        }
      },
      "source": [
        "!pip install PyPDF2 "
      ],
      "execution_count": 1,
      "outputs": [
        {
          "output_type": "stream",
          "text": [
            "Collecting PyPDF2\n",
            "\u001b[?25l  Downloading https://files.pythonhosted.org/packages/b4/01/68fcc0d43daf4c6bdbc6b33cc3f77bda531c86b174cac56ef0ffdb96faab/PyPDF2-1.26.0.tar.gz (77kB)\n",
            "\r\u001b[K     |████▎                           | 10kB 17.2MB/s eta 0:00:01\r\u001b[K     |████████▌                       | 20kB 2.1MB/s eta 0:00:01\r\u001b[K     |████████████▊                   | 30kB 2.7MB/s eta 0:00:01\r\u001b[K     |█████████████████               | 40kB 3.0MB/s eta 0:00:01\r\u001b[K     |█████████████████████▏          | 51kB 2.4MB/s eta 0:00:01\r\u001b[K     |█████████████████████████▍      | 61kB 2.7MB/s eta 0:00:01\r\u001b[K     |█████████████████████████████▋  | 71kB 3.0MB/s eta 0:00:01\r\u001b[K     |████████████████████████████████| 81kB 2.6MB/s \n",
            "\u001b[?25hBuilding wheels for collected packages: PyPDF2\n",
            "  Building wheel for PyPDF2 (setup.py) ... \u001b[?25l\u001b[?25hdone\n",
            "  Created wheel for PyPDF2: filename=PyPDF2-1.26.0-cp36-none-any.whl size=61086 sha256=a003883c79999b33c48e7e3bffe46f192c262d9785a1cf18a0a9ca187cff3456\n",
            "  Stored in directory: /root/.cache/pip/wheels/53/84/19/35bc977c8bf5f0c23a8a011aa958acd4da4bbd7a229315c1b7\n",
            "Successfully built PyPDF2\n",
            "Installing collected packages: PyPDF2\n",
            "Successfully installed PyPDF2-1.26.0\n"
          ],
          "name": "stdout"
        }
      ]
    },
    {
      "cell_type": "code",
      "metadata": {
        "id": "EECqIESqvFI5"
      },
      "source": [
        "import time\n",
        "import PyPDF2\n",
        "import re\n",
        "import os"
      ],
      "execution_count": 21,
      "outputs": []
    },
    {
      "cell_type": "code",
      "metadata": {
        "id": "kTxhqLWQvNlW",
        "outputId": "3f77aae8-047f-48f3-cc05-c0fde82397b2",
        "colab": {
          "base_uri": "https://localhost:8080/",
          "height": 34
        }
      },
      "source": [
        "def data(ab): \n",
        "  dataa = ''\n",
        "  x = 0\n",
        "  for i in ab:\n",
        "    if i == '.':\n",
        "      x = ab.index(i)\n",
        "      #print(x)\n",
        "  dataa = ab[:x]+ab[x:x+4]\n",
        "  return float(dataa)\n",
        "  \n",
        "\n",
        "print(data('1064.8251064.8251064.8250.0000.0'))\n",
        "\n"
      ],
      "execution_count": 22,
      "outputs": [
        {
          "output_type": "stream",
          "text": [
            "1064.825\n"
          ],
          "name": "stdout"
        }
      ]
    },
    {
      "cell_type": "code",
      "metadata": {
        "id": "07KPJNGkv8LR"
      },
      "source": [
        "def data_plan(total):\n",
        "  plan_name = ''\n",
        "  day = total.find('/day')\n",
        "\n",
        "  for i in range(day-4 , day):\n",
        "    plan_name += total[i]\n",
        "\n",
        "  return plan_name\n",
        "    \n"
      ],
      "execution_count": 23,
      "outputs": []
    },
    {
      "cell_type": "code",
      "metadata": {
        "id": "xTGfE2Tav0M5"
      },
      "source": [
        "dict ={}\n",
        "def Data_days(total):\n",
        "  \n",
        "  pattern = 'JIO'\n",
        "  finall = [match.start() for match in re.finditer(pattern, total)] \n",
        "\n",
        "  for j in finall:\n",
        "    abc = ''\n",
        "    for i in range(j-36, j):\n",
        "      abc +=total[i]\n",
        "      dates = abc[:9]\n",
        "\n",
        "    abcd = ''\n",
        "    for k in range(j+6 , j+15):\n",
        "      abcd += total[k]\n",
        "      datas = data(abcd)\n",
        "\n",
        "    \n",
        "    if dates in dict:\n",
        "      dict[dates] = dict.get(dates) + datas\n",
        " \n",
        "    else:\n",
        "      dict[dates] = datas\n",
        "    \n",
        "  return dict\n",
        "\n",
        "\n"
      ],
      "execution_count": 24,
      "outputs": []
    },
    {
      "cell_type": "code",
      "metadata": {
        "id": "MJ_afQPlX8ei"
      },
      "source": [
        "#difference the pan and useage\n",
        "waste_dict  = {}\n",
        "def waste_data(dict , plan):\n",
        "  for i  , j in dict.items():\n",
        "    waste_dict[i] = plan - j\n",
        "\n",
        "  return waste_dict\n",
        "\n",
        "    \n"
      ],
      "execution_count": 25,
      "outputs": []
    },
    {
      "cell_type": "code",
      "metadata": {
        "id": "DiHmGfq_zV58"
      },
      "source": [
        "#counts the waste and over waste\n",
        "def waste_over(waste_dict):\n",
        "  ok = waste_dict.values()\n",
        "  ok = list(ok)\n",
        "\n",
        "  over_data_1 = 0\n",
        "  waste_data_1 = 0\n",
        "\n",
        "  for i in ok:\n",
        "    if i <= 0:\n",
        "      waste_data_1 += i\n",
        "    else:\n",
        "      over_data_1 += i\n",
        "\n",
        "  #print(waste_data_1 , over_data_1)\n",
        "\n",
        "  return waste_data_1 , over_data_1\n",
        "\n"
      ],
      "execution_count": 26,
      "outputs": []
    },
    {
      "cell_type": "code",
      "metadata": {
        "id": "zNtx5SRUmk_a"
      },
      "source": [
        "def percentage_calculate(plan_list , waste_data_1 , over_data_1):\n",
        "  total_data = 0\n",
        "  percentage = 0 \n",
        "  for i in plan_list:\n",
        "    total_data += i*30 \n",
        "\n",
        "  percentage = waste_data_1 / total_data * 100\n",
        "\n",
        "  return percentage \n",
        "\n",
        "\n",
        "def extra_data_plan(waste_dict ):\n",
        "  waste_dict -= waste_dict % -1000\n",
        "\n",
        "  return abs(waste_dict)\n",
        "\n"
      ],
      "execution_count": 45,
      "outputs": []
    },
    {
      "cell_type": "code",
      "metadata": {
        "id": "YUN8rAYZ-2I6"
      },
      "source": [
        "import matplotlib.pyplot as plt\n",
        "def plot(percentage ):\n",
        "  labels = 'Data_Wasted', 'Data_Used' \n",
        "  sizes = [percentage ,  100 - percentage]\n",
        "  explode = ( 0.1 , 0)  \n",
        "  fig1, ax1 = plt.subplots()\n",
        "  ax1.pie(sizes, explode=explode, labels=labels, autopct='%1.1f%%',\n",
        "          shadow=True, startangle=90)\n",
        "  ax1.axis('equal') \n",
        "  plt.show()\n"
      ],
      "execution_count": 49,
      "outputs": []
    },
    {
      "cell_type": "code",
      "metadata": {
        "id": "XTWhw-gpvQmL",
        "outputId": "cbe35615-831a-43b6-8a33-bafcd5d94bed",
        "colab": {
          "base_uri": "https://localhost:8080/",
          "height": 139
        }
      },
      "source": [
        "#Main function\n",
        "\n",
        "start = time.process_time()\n",
        "dict = {}\n",
        "plan_list = []\n",
        "waste_data_1 = 0\n",
        "over_data_1 = 0\n",
        "for file in os.listdir(\"/content/drive/My Drive/jio/\"):\n",
        "  if file.endswith(\".pdf\"):\n",
        "    FileName = os.path.join(\"/content/drive/My Drive/jio/\", file)\n",
        "    pdf = open(FileName, \"rb\")\n",
        "          \n",
        "    Pdf = PyPDF2.PdfFileReader(pdf)\n",
        "\n",
        "    for i in range(0, Pdf.getNumPages()):\n",
        "      PageObj = Pdf.getPage(i)\n",
        "      total = PageObj.extractText()\n",
        "      if i == 1:\n",
        "        plan = data_plan(total)[0]\n",
        "\n",
        "        plan = int(plan + '000')\n",
        "        plan_list.append(plan)\n",
        "\n",
        "\n",
        "  \n",
        "      dict = Data_days(total)\n",
        "\n",
        "    waste = waste_data(dict , plan)\n",
        "    over_data_1 , waste_data_1 = waste_over(waste_dict)\n",
        "\n",
        "    percentage = percentage_calculate(plan_list , waste_data_1 , over_data_1)\n",
        "    extra_plan = extra_data_plan(over_data_1 )\n",
        "\n",
        "\n",
        "#plot( percentage )\n",
        "\n",
        "  \n",
        "    \n",
        "print(dict)\n",
        "print(plan_list)\n",
        "print(percentage)\n",
        "print(extra_plan)\n",
        "print()\n",
        "\n",
        "print(\"time taken -- = \" , time.process_time() - start)"
      ],
      "execution_count": 47,
      "outputs": [
        {
          "output_type": "stream",
          "text": [
            "{'30-APR-20': 2067.2340000000004, '29-APR-20': 1484.7420000000002, '28-APR-20': 2173.922, '27-APR-20': 2791.38, '26-APR-20': 2553.4309999999996, '25-APR-20': 1973.356, '24-APR-20': 1996.695, '23-APR-20': 2456.029, '22-APR-20': 2176.641, '21-APR-20': 2103.3650000000002, '20-APR-20': 1354.7959999999998, '19-APR-20': 1719.999, '18-APR-20': 1660.128, '17-APR-20': 2136.9339999999997, '16-APR-20': 2650.846, '15-APR-20': 1844.8339999999998, '14-APR-20': 1687.347, '13-APR-20': 1868.057, '12-APR-20': 1412.6109999999999, '11-APR-20': 1308.521, '10-APR-20': 1356.384, '09-APR-20': 1887.9980000000003, '08-APR-20': 1486.7510000000002, '07-APR-20': 1321.582, '06-APR-20': 1310.6619999999998, '05-APR-20': 1862.435, '04-APR-20': 856.8280000000001, '03-APR-20': 1349.154, '02-APR-20': 2506.612, '01-APR-20': 3674.3830000000003, '30-MAY-20': 1746.703, '29-MAY-20': 1754.365, '28-MAY-20': 1828.4679999999998, '27-MAY-20': 1833.191, '26-MAY-20': 1969.7230000000002, '25-MAY-20': 5352.644, '24-MAY-20': 3540.815, '23-MAY-20': 1966.0909999999997, '22-MAY-20': 2383.929, '21-MAY-20': 2061.4309999999996, '20-MAY-20': 2050.563, '19-MAY-20': 1879.214, '18-MAY-20': 2058.507, '17-MAY-20': 2163.112, '16-MAY-20': 2377.297, '15-MAY-20': 2526.3109999999997, '14-MAY-20': 2431.131, '13-MAY-20': 2798.243, '12-MAY-20': 1986.943, '11-MAY-20': 3048.761, '10-MAY-20': 4558.134, '09-MAY-20': 2253.762, '08-MAY-20': 1404.447, '07-MAY-20': 1497.6770000000001, '06-MAY-20': 2435.081, '05-MAY-20': 2150.526, '04-MAY-20': 2607.325, '03-MAY-20': 2169.153, '02-MAY-20': 3314.346, '01-MAY-20': 1951.983, '30-JUN-20': 1956.659, '29-JUN-20': 1692.985, '28-JUN-20': 2052.708, '27-JUN-20': 1758.808, '26-JUN-20': 1515.154, '25-JUN-20': 2049.7870000000003, '24-JUN-20': 1625.528, '23-JUN-20': 4932.347, '22-JUN-20': 2631.674, '21-JUN-20': 2138.779, '20-JUN-20': 4626.74, '19-JUN-20': 1749.7160000000001, '18-JUN-20': 2018.627, '17-JUN-20': 1623.48, '16-JUN-20': 2079.7799999999997, '15-JUN-20': 1765.303, '14-JUN-20': 2478.6290000000004, '13-JUN-20': 3481.692, '12-JUN-20': 3315.0070000000005, '11-JUN-20': 2159.147, '10-JUN-20': 2752.294, '09-JUN-20': 3362.1749999999997, '08-JUN-20': 2007.122, '07-JUN-20': 1554.538, '06-JUN-20': 1887.238, '05-JUN-20': 1966.226, '04-JUN-20': 2318.5559999999996, '03-JUN-20': 2093.2960000000003, '02-JUN-20': 2520.026, '01-JUN-20': 1756.1529999999998, '30-JUL-20': 3500.991, '29-JUL-20': 1777.567, '28-JUL-20': 2860.904, '27-JUL-20': 1955.5749999999998, '26-JUL-20': 2708.0679999999998, '25-JUL-20': 2953.157, '24-JUL-20': 4082.844, '23-JUL-20': 4035.423, '22-JUL-20': 3444.075, '21-JUL-20': 2601.2790000000005, '20-JUL-20': 4780.813, '19-JUL-20': 2761.4120000000003, '18-JUL-20': 1179.603, '17-JUL-20': 3135.166, '16-JUL-20': 2578.611, '15-JUL-20': 4021.8869999999997, '14-JUL-20': 2599.973, '13-JUL-20': 2657.0639999999994, '12-JUL-20': 2775.3059999999996, '11-JUL-20': 3849.335, '10-JUL-20': 2984.899, '09-JUL-20': 3870.379, '08-JUL-20': 2000.295, '07-JUL-20': 3120.05, '06-JUL-20': 2984.8280000000004, '05-JUL-20': 2416.203, '04-JUL-20': 2299.289, '03-JUL-20': 5285.047, '02-JUL-20': 5992.457, '01-JUL-20': 3772.4889999999996, '28-AUG-20': 996.937, '27-AUG-20': 2205.959, '26-AUG-20': 2415.9900000000002, '25-AUG-20': 3152.2519999999995, '24-AUG-20': 2454.3070000000002, '23-AUG-20': 2783.9900000000002, '22-AUG-20': 2235.2110000000002, '21-AUG-20': 2471.9910000000004, '20-AUG-20': 3883.4129999999996, '19-AUG-20': 2288.322, '18-AUG-20': 2810.692, '17-AUG-20': 2893.4259999999995, '16-AUG-20': 5807.9439999999995, '15-AUG-20': 2782.2610000000004, '14-AUG-20': 2791.0049999999997, '13-AUG-20': 2807.881, '12-AUG-20': 4103.808, '11-AUG-20': 2030.721, '10-AUG-20': 2395.592, '09-AUG-20': 2381.852, '08-AUG-20': 3646.3689999999997, '07-AUG-20': 3560.7439999999997, '06-AUG-20': 2093.9170000000004, '05-AUG-20': 4071.9979999999996, '04-AUG-20': 2567.933, '03-AUG-20': 2698.785, '02-AUG-20': 2784.38, '01-AUG-20': 2600.119}\n",
            "[2000, 2000, 2000, 2000, 2000]\n",
            "10.274897333333332\n",
            "98000.0\n",
            "\n",
            "time taken -- =  1.899770140000001\n"
          ],
          "name": "stdout"
        }
      ]
    },
    {
      "cell_type": "code",
      "metadata": {
        "id": "_bVhfo_9NmJX",
        "outputId": "15b07843-66d7-495f-d7a2-13db4c3c7729",
        "colab": {
          "base_uri": "https://localhost:8080/",
          "height": 248
        }
      },
      "source": [
        "plot(percentage )"
      ],
      "execution_count": 50,
      "outputs": [
        {
          "output_type": "display_data",
          "data": {
            "image/png": "[encoded data removed]",
            "text/plain": [
              "<Figure size 432x288 with 1 Axes>"
            ]
          },
          "metadata": {
            "tags": []
          }
        }
      ]
    },
    {
      "cell_type": "code",
      "metadata": {
        "id": "qcVw4onHvWTq",
        "outputId": "bcd8e31b-5c1d-4835-b894-da199ec11653",
        "colab": {
          "base_uri": "https://localhost:8080/",
          "height": 51
        }
      },
      "source": [
        "print(waste_data_1 , over_data_1)\n",
        "print(waste_over(waste_dict))"
      ],
      "execution_count": 38,
      "outputs": [
        {
          "output_type": "stream",
          "text": [
            "15147.847000000002 -5453.413000000001\n",
            "(-5453.413000000001, 15147.847000000002)\n"
          ],
          "name": "stdout"
        }
      ]
    },
    {
      "cell_type": "code",
      "metadata": {
        "id": "zmfzMVV9e0Y_",
        "outputId": "e8989cbc-bf2e-4e9f-e0a6-b7de3e525834",
        "colab": {
          "base_uri": "https://localhost:8080/",
          "height": 527
        }
      },
      "source": [
        "len(waste_dict)\n",
        "waste_dict"
      ],
      "execution_count": 31,
      "outputs": [
        {
          "output_type": "execute_result",
          "data": {
            "text/plain": [
              "{'01-MAR-20': 443.9660000000001,\n",
              " '02-MAR-20': 1200.5819999999999,\n",
              " '03-MAR-20': 218.5340000000001,\n",
              " '04-MAR-20': 611.0559999999998,\n",
              " '05-MAR-20': 422.51,\n",
              " '06-MAR-20': 793.5990000000002,\n",
              " '07-MAR-20': 57.567000000000235,\n",
              " '08-MAR-20': -210.1949999999997,\n",
              " '09-MAR-20': 448.65599999999995,\n",
              " '10-MAR-20': 857.2889999999998,\n",
              " '11-MAR-20': 180.24500000000012,\n",
              " '12-MAR-20': -162.067,\n",
              " '13-MAR-20': 544.9479999999999,\n",
              " '14-MAR-20': -161.23599999999988,\n",
              " '15-MAR-20': -565.9710000000005,\n",
              " '16-MAR-20': 365.01099999999997,\n",
              " '17-MAR-20': 524.671,\n",
              " '18-MAR-20': 489.6060000000002,\n",
              " '19-MAR-20': 31.450000000000045,\n",
              " '20-MAR-20': 1024.4,\n",
              " '21-MAR-20': 902.512,\n",
              " '22-MAR-20': 748.2640000000001,\n",
              " '23-MAR-20': 1094.5259999999998,\n",
              " '24-MAR-20': 94.94699999999966,\n",
              " '25-MAR-20': -4353.944000000001,\n",
              " '26-MAR-20': 714.096,\n",
              " '27-MAR-20': 900.857,\n",
              " '28-MAR-20': 777.327,\n",
              " '29-MAR-20': 724.7530000000002,\n",
              " '30-MAR-20': 976.4750000000001}"
            ]
          },
          "metadata": {
            "tags": []
          },
          "execution_count": 31
        }
      ]
    },
    {
      "cell_type": "code",
      "metadata": {
        "id": "it1J07sKe1zu",
        "outputId": "c10069b9-f3d2-4c90-eb2f-48c0b48386da",
        "colab": {
          "base_uri": "https://localhost:8080/",
          "height": 34
        }
      },
      "source": [
        "plan_list"
      ],
      "execution_count": 32,
      "outputs": [
        {
          "output_type": "execute_result",
          "data": {
            "text/plain": [
              "[2000]"
            ]
          },
          "metadata": {
            "tags": []
          },
          "execution_count": 32
        }
      ]
    },
    {
      "cell_type": "code",
      "metadata": {
        "id": "P0eHP-cs7uUW"
      },
      "source": [
        ""
      ],
      "execution_count": 32,
      "outputs": []
    }
  ]
}